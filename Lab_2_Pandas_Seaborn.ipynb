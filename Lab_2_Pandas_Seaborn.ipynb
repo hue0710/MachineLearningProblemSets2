{
  "nbformat": 4,
  "nbformat_minor": 0,
  "metadata": {
    "colab": {
      "name": "Copy of Lab_2_Pandas-Seaborn.ipynb",
      "provenance": []
    },
    "kernelspec": {
      "name": "python3",
      "display_name": "Python 3"
    }
  },
  "cells": [
    {
      "cell_type": "markdown",
      "metadata": {
        "id": "nB9SkJ8AdMVF",
        "colab_type": "text"
      },
      "source": [
        "![](https://i.imgur.com/0AUxkXt.png)"
      ]
    },
    {
      "cell_type": "markdown",
      "metadata": {
        "id": "Mhi70e4CdNf4",
        "colab_type": "text"
      },
      "source": [
        "# Lab 2 - Pandas & Seaborn"
      ]
    },
    {
      "cell_type": "markdown",
      "metadata": {
        "id": "NdjCl3H3dWbX",
        "colab_type": "text"
      },
      "source": [
        "## Import libraries"
      ]
    },
    {
      "cell_type": "code",
      "metadata": {
        "id": "mlRxipHtc3Bh",
        "colab_type": "code",
        "colab": {}
      },
      "source": [
        "# Your code here\n",
        "import pandas as pd\n",
        "import seaborn as sns"
      ],
      "execution_count": null,
      "outputs": []
    },
    {
      "cell_type": "markdown",
      "metadata": {
        "id": "fdAwfjMIeW3k",
        "colab_type": "text"
      },
      "source": [
        "## Import data\n",
        "\n",
        "In this Lab we will use a dataset from seaborn library. The dataset contains tips data from different customers females and males, smokers and non smokers, from days, dinner or lunch and from different table size."
      ]
    },
    {
      "cell_type": "code",
      "metadata": {
        "id": "QArJ6Nt4ech-",
        "colab_type": "code",
        "colab": {}
      },
      "source": [
        "# Run this code\n",
        "tips = sns.load_dataset('tips')"
      ],
      "execution_count": null,
      "outputs": []
    },
    {
      "cell_type": "markdown",
      "metadata": {
        "id": "9Kt_GDz6e2K4",
        "colab_type": "text"
      },
      "source": [
        "### Overview\n",
        "\n",
        "**Show the first 3 rows of the data**"
      ]
    },
    {
      "cell_type": "code",
      "metadata": {
        "id": "oW0zZRWKezAK",
        "colab_type": "code",
        "colab": {}
      },
      "source": [
        "# Your code here\n",
        "print(tips[0:3])"
      ],
      "execution_count": null,
      "outputs": []
    },
    {
      "cell_type": "markdown",
      "metadata": {
        "id": "KELAOLL2fFeW",
        "colab_type": "text"
      },
      "source": [
        "### Show the last 2 rows of the data"
      ]
    },
    {
      "cell_type": "code",
      "metadata": {
        "id": "NDmmOi7xfJhA",
        "colab_type": "code",
        "colab": {}
      },
      "source": [
        "# Your code here\n",
        "print(tips[-2:])"
      ],
      "execution_count": null,
      "outputs": []
    },
    {
      "cell_type": "markdown",
      "metadata": {
        "id": "pYKHwnDnfMXk",
        "colab_type": "text"
      },
      "source": [
        "### Show 4 randoms rows"
      ]
    },
    {
      "cell_type": "code",
      "metadata": {
        "id": "6hL9EeTAfQ3L",
        "colab_type": "code",
        "colab": {}
      },
      "source": [
        "# Your code here\n",
        "import numpy as pd\n",
        "from numpy import choice\n",
        "print(choice(tips, size = 4))\n"
      ],
      "execution_count": null,
      "outputs": []
    },
    {
      "cell_type": "markdown",
      "metadata": {
        "id": "vKwm4bp1fd9a",
        "colab_type": "text"
      },
      "source": [
        "### Print a concise summary of the data\n",
        "\n",
        "Print information about the data including the index dtype and column dtypes, non-null values and memory usage."
      ]
    },
    {
      "cell_type": "code",
      "metadata": {
        "id": "S0mcL7RLflEm",
        "colab_type": "code",
        "colab": {}
      },
      "source": [
        "# Your code here\n",
        "tips = sns.load_dataset('tips')\n",
        "tips.head()"
      ],
      "execution_count": null,
      "outputs": []
    },
    {
      "cell_type": "markdown",
      "metadata": {
        "id": "GMFkZD2NgEW_",
        "colab_type": "text"
      },
      "source": [
        "### Generate descriptive statistics\n",
        "\n",
        "A descriptive statistics that summarize the central tendency, dispersion and shape of a dataset's distribution, excluding NaN values."
      ]
    },
    {
      "cell_type": "code",
      "metadata": {
        "id": "VGcw9_DogYVh",
        "colab_type": "code",
        "colab": {}
      },
      "source": [
        "# Your code here\n",
        "plt.plot(x, y)\n",
        "plt.legend('ABCDEF', ncol=2, loc='upper left');"
      ],
      "execution_count": null,
      "outputs": []
    },
    {
      "cell_type": "markdown",
      "metadata": {
        "id": "fX18JXY6hUpi",
        "colab_type": "text"
      },
      "source": [
        "## EDA - Exploratory Data Analysis\n",
        "\n",
        "**What is the min/max of tip?**"
      ]
    },
    {
      "cell_type": "code",
      "metadata": {
        "id": "pPc8Vdfyg-3g",
        "colab_type": "code",
        "colab": {}
      },
      "source": [
        "# Your code here\n",
        "tips.max()\n",
        "tips.min()"
      ],
      "execution_count": null,
      "outputs": []
    },
    {
      "cell_type": "markdown",
      "metadata": {
        "id": "k-ZzN78Rilnt",
        "colab_type": "text"
      },
      "source": [
        "**The restaurant is open on which days of the week?**\n",
        "\n",
        "*Hint: unique values of the column `day`*"
      ]
    },
    {
      "cell_type": "code",
      "metadata": {
        "id": "gSrW3rnzjTva",
        "colab_type": "code",
        "colab": {}
      },
      "source": [
        "# Your code here\n",
        "tips1 = tips.groupby('day').values()\n",
        "tips1"
      ],
      "execution_count": null,
      "outputs": []
    },
    {
      "cell_type": "markdown",
      "metadata": {
        "id": "0jftAWtQv_xW",
        "colab_type": "text"
      },
      "source": [
        "**List of unique values in column `time`**"
      ]
    },
    {
      "cell_type": "code",
      "metadata": {
        "id": "P-dxGTqBwMLA",
        "colab_type": "code",
        "colab": {}
      },
      "source": [
        "# Your code here\n",
        "tips1 = tips.groupby('time').values()\n",
        "tips1"
      ],
      "execution_count": null,
      "outputs": []
    },
    {
      "cell_type": "markdown",
      "metadata": {
        "id": "IGVtUnvSjg9b",
        "colab_type": "text"
      },
      "source": [
        "**What is the range of table size?**"
      ]
    },
    {
      "cell_type": "code",
      "metadata": {
        "id": "fTE9tQ_wjltu",
        "colab_type": "code",
        "colab": {}
      },
      "source": [
        "# Your code here\n",
        "tips1 = tips.size()\n",
        "tips1"
      ],
      "execution_count": null,
      "outputs": []
    },
    {
      "cell_type": "markdown",
      "metadata": {
        "id": "_Gx8UIMepNsp",
        "colab_type": "text"
      },
      "source": [
        "**How many man/woman paid for the dish?**\n"
      ]
    },
    {
      "cell_type": "code",
      "metadata": {
        "id": "67yMlr22pjUL",
        "colab_type": "code",
        "colab": {}
      },
      "source": [
        "# Your code here\n",
        "tips1 = tips.groupby('man', 'woman').sum()\n",
        "tips1"
      ],
      "execution_count": null,
      "outputs": []
    },
    {
      "cell_type": "markdown",
      "metadata": {
        "id": "pBVDe59QpqDM",
        "colab_type": "text"
      },
      "source": [
        "**What is the percentage of smoker table and their revenue?**"
      ]
    },
    {
      "cell_type": "code",
      "metadata": {
        "id": "qy1Q250upxwG",
        "colab_type": "code",
        "colab": {}
      },
      "source": [
        "# Your code here\n",
        "tips1 = tips.groupby('smoker').sum()\n",
        "tips1['percent'] = tips1/tips1['total_bill']*100\n",
        "tips1"
      ],
      "execution_count": null,
      "outputs": []
    },
    {
      "cell_type": "markdown",
      "metadata": {
        "id": "h1Izjo0HqI-9",
        "colab_type": "text"
      },
      "source": [
        "**List 3 tables that have the most expensive bill**"
      ]
    },
    {
      "cell_type": "code",
      "metadata": {
        "id": "TTvXeHxsqT3q",
        "colab_type": "code",
        "colab": {}
      },
      "source": [
        "# Your code here\n",
        "tips1 = tips.sort_bill()\n",
        "print(tips[0:3])"
      ],
      "execution_count": null,
      "outputs": []
    },
    {
      "cell_type": "markdown",
      "metadata": {
        "id": "HyYXxw8Fqy-7",
        "colab_type": "text"
      },
      "source": [
        "### Group by - Example\n",
        "\n",
        "**What is the best day to work - maximum tips (sum and percents)?**"
      ]
    },
    {
      "cell_type": "code",
      "metadata": {
        "id": "mwE2LP4sqVtf",
        "colab_type": "code",
        "colab": {}
      },
      "source": [
        "tips2 = tips.groupby('day').sum()\n",
        "tips2['percent'] = tips2['tip'] / tips2['total_bill'] * 100\n",
        "tips2"
      ],
      "execution_count": null,
      "outputs": []
    },
    {
      "cell_type": "markdown",
      "metadata": {
        "id": "_XtpGXPerFoB",
        "colab_type": "text"
      },
      "source": [
        "**Your turn: Who eats more (and tips more)? smokers or non smokers?**"
      ]
    },
    {
      "cell_type": "code",
      "metadata": {
        "id": "ttatVLMIrM1e",
        "colab_type": "code",
        "colab": {}
      },
      "source": [
        "# Your code here\n",
        "tips1 = tips.groupby('eats', 'smokers', 'non smokers').values()\n",
        "tips1"
      ],
      "execution_count": null,
      "outputs": []
    },
    {
      "cell_type": "markdown",
      "metadata": {
        "id": "NBZuVHsprnmv",
        "colab_type": "text"
      },
      "source": [
        "### Data Visualization using Seaborn\n",
        "\n",
        "**Visualize # of tables per day**\n",
        "\n",
        "*Hint: using the seaborn's function **countplot()** with `x=day` and `data=tips`*"
      ]
    },
    {
      "cell_type": "code",
      "metadata": {
        "id": "POjYBe4zsAGm",
        "colab_type": "code",
        "colab": {}
      },
      "source": [
        "# Your code here\n",
        "import seaborn as sns\n",
        "sns.set()\n",
        "tips = sns.load_dataset(\"tips\")\n",
        "ax = sns.countplot(x=\"day\", data=tips)"
      ],
      "execution_count": null,
      "outputs": []
    },
    {
      "cell_type": "markdown",
      "metadata": {
        "id": "yu9PNmzRvJxS",
        "colab_type": "text"
      },
      "source": [
        "**Visualize # of smoker and non-smoker tables**"
      ]
    },
    {
      "cell_type": "code",
      "metadata": {
        "id": "3yFFZxn0vO0L",
        "colab_type": "code",
        "colab": {}
      },
      "source": [
        "# Your code here\n",
        "import seaborn as sns\n",
        "sns.set()\n",
        "tips = sns.load_dataset(\"tips\")\n",
        "ax = sns.countplot(x=\"smoker\", data=tips)"
      ],
      "execution_count": null,
      "outputs": []
    },
    {
      "cell_type": "markdown",
      "metadata": {
        "id": "bZPzcdrqvTWm",
        "colab_type": "text"
      },
      "source": [
        "**Visualize # of male/female customers who pay**"
      ]
    },
    {
      "cell_type": "code",
      "metadata": {
        "id": "1xEJMbMsvdIR",
        "colab_type": "code",
        "colab": {}
      },
      "source": [
        "# Your code here\n",
        "import seaborn as sns\n",
        "sns.set()\n",
        "tips = sns.load_dataset(\"tips\")\n",
        "ax = sns.countplot(x=\"female\", data=tips)"
      ],
      "execution_count": null,
      "outputs": []
    },
    {
      "cell_type": "markdown",
      "metadata": {
        "id": "bKtSBv_rsCbI",
        "colab_type": "text"
      },
      "source": [
        "**Analyze the distribution of payments of male and female in different days**\n",
        "\n",
        "*Hint: countplot with `hue='sex'`*"
      ]
    },
    {
      "cell_type": "code",
      "metadata": {
        "id": "UoNGFMKosld-",
        "colab_type": "code",
        "colab": {}
      },
      "source": [
        "# Your code here\n",
        "import seaborn as sns\n",
        "sns.set()\n",
        "tips = sns.load_dataset(\"tips\")\n",
        "ax = sns.countplot(hue=\"sex\", data=tips)"
      ],
      "execution_count": null,
      "outputs": []
    },
    {
      "cell_type": "markdown",
      "metadata": {
        "id": "hcehBnDcv0J0",
        "colab_type": "text"
      },
      "source": [
        "**Analyze the # of tables in different time (lunch or dinner) and days**"
      ]
    },
    {
      "cell_type": "code",
      "metadata": {
        "id": "_200tzWls4qG",
        "colab_type": "code",
        "colab": {}
      },
      "source": [
        "# Your code here\n",
        "import seaborn as sns\n",
        "sns.set()\n",
        "tips = sns.load_dataset(\"tips\")\n",
        "ax = sns.countplot(x=\"time\", data=tips)"
      ],
      "execution_count": null,
      "outputs": []
    },
    {
      "cell_type": "markdown",
      "metadata": {
        "id": "zIiRuD1lwXIM",
        "colab_type": "text"
      },
      "source": [
        "**Example: Visualize the distribution of the total bill**\n"
      ]
    },
    {
      "cell_type": "code",
      "metadata": {
        "id": "aQV66iZquyN1",
        "colab_type": "code",
        "colab": {}
      },
      "source": [
        "sns.distplot(tips['total_bill'], bins=5)"
      ],
      "execution_count": null,
      "outputs": []
    },
    {
      "cell_type": "markdown",
      "metadata": {
        "id": "ShsMMKhSwsEQ",
        "colab_type": "text"
      },
      "source": [
        "**Visualize the distribution of the tip**"
      ]
    },
    {
      "cell_type": "code",
      "metadata": {
        "id": "lWF4EKDfwzeA",
        "colab_type": "code",
        "colab": {}
      },
      "source": [
        "# Your code here\n",
        "sns.distplot(tips['tip'], bins=5)"
      ],
      "execution_count": null,
      "outputs": []
    },
    {
      "cell_type": "markdown",
      "metadata": {
        "id": "T9QjEDMbw8iG",
        "colab_type": "text"
      },
      "source": [
        "**Example: Scatter plot of tip and total bill**"
      ]
    },
    {
      "cell_type": "code",
      "metadata": {
        "id": "BlrpjaLQxCAY",
        "colab_type": "code",
        "colab": {}
      },
      "source": [
        "sns.jointplot(x='tip', y='total_bill', data=tips)"
      ],
      "execution_count": null,
      "outputs": []
    },
    {
      "cell_type": "markdown",
      "metadata": {
        "id": "h-qLLbwYxIGL",
        "colab_type": "text"
      },
      "source": [
        "**Add one more parameter `kind='hex'` to the previous   `jointplot()` function**"
      ]
    },
    {
      "cell_type": "code",
      "metadata": {
        "id": "jctY9-d4xUhM",
        "colab_type": "code",
        "colab": {}
      },
      "source": [
        "# Your code here\n",
        "sns.jointplot(x='tip', kind='hex', y='total_bill', data=tips)"
      ],
      "execution_count": null,
      "outputs": []
    },
    {
      "cell_type": "markdown",
      "metadata": {
        "id": "S48PZXDcxgXE",
        "colab_type": "text"
      },
      "source": [
        "**Let's try with `kind='kde'` (KDE - Kernel Density Estimation)**"
      ]
    },
    {
      "cell_type": "code",
      "metadata": {
        "id": "Tj50I_K4xwHI",
        "colab_type": "code",
        "colab": {}
      },
      "source": [
        "# Your code here\n",
        "sns.kdeplot(kind, shade=True);"
      ],
      "execution_count": null,
      "outputs": []
    },
    {
      "cell_type": "markdown",
      "metadata": {
        "id": "oXZauHzuyqFo",
        "colab_type": "text"
      },
      "source": [
        "**Analyze the relationship between `size` and `tip`**"
      ]
    },
    {
      "cell_type": "code",
      "metadata": {
        "id": "F1fg3P_by0E5",
        "colab_type": "code",
        "colab": {}
      },
      "source": [
        "# Your code here\n",
        "sns.kdeplot(size, tip, shade=True);"
      ],
      "execution_count": null,
      "outputs": []
    },
    {
      "cell_type": "markdown",
      "metadata": {
        "id": "BlJRnGdOzUph",
        "colab_type": "text"
      },
      "source": [
        "**Correlation Matrix**\n",
        "\n",
        "Show the correlation matrix and comfirm the analytics you have from previous steps."
      ]
    },
    {
      "cell_type": "code",
      "metadata": {
        "id": "8N1itVCpzoZw",
        "colab_type": "code",
        "colab": {}
      },
      "source": [
        "# Your code here\n",
        "plt.imshow(correlation_matrix,cmap='size',interpolation='tip')"
      ],
      "execution_count": null,
      "outputs": []
    },
    {
      "cell_type": "markdown",
      "metadata": {
        "id": "7f6HYYru6XRY",
        "colab_type": "text"
      },
      "source": [
        "**Box plot, Swarm plot and Violin plot**\n",
        "\n",
        "![](https://i.imgur.com/5Lo17qp.png)"
      ]
    },
    {
      "cell_type": "markdown",
      "metadata": {
        "id": "niLV2dVs62Ik",
        "colab_type": "text"
      },
      "source": [
        "**Implement the seaborn's function `boxplot()` with params: `x='sex'`, `y='total_bill'` and `data=tips`**"
      ]
    },
    {
      "cell_type": "code",
      "metadata": {
        "id": "C2lvNCKB6YBS",
        "colab_type": "code",
        "colab": {}
      },
      "source": [
        "# Your code here\n",
        "with sns.axes_style(style='tips'):\n",
        "    g = sns.factorplot(\"sex\", \"total_bill\", data=tips)\n",
        "    g.set_axis_labels(\"sex\", \"Total Bill\");"
      ],
      "execution_count": null,
      "outputs": []
    },
    {
      "cell_type": "markdown",
      "metadata": {
        "id": "BcVs63bw7Mc2",
        "colab_type": "text"
      },
      "source": [
        "**Implement `boxplot()` with params: `x='sex'`, `y='total_bill'` and `data=tips`**"
      ]
    },
    {
      "cell_type": "code",
      "metadata": {
        "id": "wpjbuI0x7a1U",
        "colab_type": "code",
        "colab": {}
      },
      "source": [
        "# Your code here\n",
        "with sns.axes_style(style='tips'):\n",
        "    g = sns.factorplot(\"sex\", \"total_bill\", data=tips)\n",
        "    g.set_axis_labels(\"sex\", \"Total Bill\");"
      ],
      "execution_count": null,
      "outputs": []
    },
    {
      "cell_type": "markdown",
      "metadata": {
        "id": "Z6FvQWcR7gFS",
        "colab_type": "text"
      },
      "source": [
        "**Add `hue='smoker'` to the previous `boxplot()`**"
      ]
    },
    {
      "cell_type": "code",
      "metadata": {
        "id": "40GWj8Uq7o5I",
        "colab_type": "code",
        "colab": {}
      },
      "source": [
        "# Your code here\n",
        "with sns.axes_style(style='tips'):\n",
        "    g = sns.factorplot(\"sex\", 'smoker', \"total_bill\", data=tips)\n",
        "    g.set_axis_labels('smoker', \"sex\", \"Total Bill\");"
      ],
      "execution_count": null,
      "outputs": []
    },
    {
      "cell_type": "markdown",
      "metadata": {
        "id": "fU3kztPk7t9S",
        "colab_type": "text"
      },
      "source": [
        "**Implement `swarmplot()` with: `x='day', y='tip', hue='smoker', data=tips`**"
      ]
    },
    {
      "cell_type": "code",
      "metadata": {
        "id": "amtE0-nU74Y6",
        "colab_type": "code",
        "colab": {}
      },
      "source": [
        "# Your code here\n",
        "sns.swarmplot(x=\"day\", y=\"tip\", hue = 'smoker', data=tips)"
      ],
      "execution_count": null,
      "outputs": []
    },
    {
      "cell_type": "markdown",
      "metadata": {
        "id": "cT6IXHgI8NtC",
        "colab_type": "text"
      },
      "source": [
        "**Implement previous chart with `violinplot()`**"
      ]
    },
    {
      "cell_type": "code",
      "metadata": {
        "id": "jtXZkxV_8QUg",
        "colab_type": "code",
        "colab": {}
      },
      "source": [
        "# Your code here\n",
        "sns.violinplot(x=\"day\", y=\"tip\", hue = 'smoker', data=tips)"
      ],
      "execution_count": null,
      "outputs": []
    },
    {
      "cell_type": "markdown",
      "metadata": {
        "id": "geDjBuE02C6S",
        "colab_type": "text"
      },
      "source": [
        "### Bonus"
      ]
    },
    {
      "cell_type": "markdown",
      "metadata": {
        "id": "OJjq986a37p_",
        "colab_type": "text"
      },
      "source": [
        "**Total revenue per day**"
      ]
    },
    {
      "cell_type": "code",
      "metadata": {
        "id": "FQ-YKLls1Yca",
        "colab_type": "code",
        "colab": {
          "base_uri": "https://localhost:8080/",
          "height": 313
        },
        "outputId": "7269b4d4-3586-486c-c244-6f09b4c0f57c"
      },
      "source": [
        "tips.groupby('day').sum()['total_bill'].plot(kind='bar')"
      ],
      "execution_count": null,
      "outputs": [
        {
          "output_type": "execute_result",
          "data": {
            "text/plain": [
              "<matplotlib.axes._subplots.AxesSubplot at 0x7f36b7a5bdd8>"
            ]
          },
          "metadata": {
            "tags": []
          },
          "execution_count": 19
        },
        {
          "output_type": "display_data",
          "data": {
            "image/png": "[encoded data removed]",
            "text/plain": [
              "<Figure size 432x288 with 1 Axes>"
            ]
          },
          "metadata": {
            "tags": []
          }
        }
      ]
    },
    {
      "cell_type": "markdown",
      "metadata": {
        "id": "_WVHZ4XE4u8U",
        "colab_type": "text"
      },
      "source": [
        "**Pie chart of table size in percentage**"
      ]
    },
    {
      "cell_type": "code",
      "metadata": {
        "id": "-xcx85Dv4vZm",
        "colab_type": "code",
        "colab": {
          "base_uri": "https://localhost:8080/",
          "height": 298
        },
        "outputId": "96395fa2-9fc5-4c1f-fe48-9233790eddb2"
      },
      "source": [
        "# Pie chart\n",
        "labels = []\n",
        "sizes = []\n",
        "explode = []\n",
        "\n",
        "labels = tips['size'].value_counts().index.sort_values()\n",
        "for index, size in enumerate(labels):\n",
        "    sizes.append(size)\n",
        "    if size==3:\n",
        "        explode.append(0.2)\n",
        "    else:\n",
        "        explode.append(0)\n",
        " \n",
        "f, ax1 = plt.subplots()\n",
        "ax1.pie(sizes, explode=explode, labels=labels, autopct='%1.1f%%',\n",
        "        shadow=True, startangle=90)\n",
        "# Equal aspect ratio ensures that pie is drawn as a circle\n",
        "ax1.axis('equal')  \n",
        "plt.tight_layout()\n",
        "plt.show()"
      ],
      "execution_count": null,
      "outputs": [
        {
          "output_type": "display_data",
          "data": {
            "image/png": "[encoded data removed]",
            "text/plain": [
              "<Figure size 432x288 with 1 Axes>"
            ]
          },
          "metadata": {
            "tags": []
          }
        }
      ]
    },
    {
      "cell_type": "markdown",
      "metadata": {
        "id": "t8U7mHTGz54d",
        "colab_type": "text"
      },
      "source": [
        "## Great Job!!"
      ]
    }
  ]
}